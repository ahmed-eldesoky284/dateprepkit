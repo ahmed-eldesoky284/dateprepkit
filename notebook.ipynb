{
 "cells": [
  {
   "cell_type": "code",
   "execution_count": null,
   "id": "c3cbbec7",
   "metadata": {},
   "outputs": [],
   "source": [
    "%pip install DataPrepKit\n"
   ]
  },
  {
   "cell_type": "code",
   "execution_count": null,
   "id": "a62cd7b5",
   "metadata": {},
   "outputs": [
    {
     "ename": "",
     "evalue": "",
     "output_type": "error",
     "traceback": [
      "\u001b[1;31mRunning cells with 'c:\\Users\\ahmedeldesoky\\AppData\\Local\\Microsoft\\WindowsApps\\python3.11.exe' requires the ipykernel package.\n",
      "\u001b[1;31mRun the following command to install 'ipykernel' into the Python environment. \n",
      "\u001b[1;31mCommand: 'c:/Users/ahmedeldesoky/AppData/Local/Microsoft/WindowsApps/python3.11.exe -m pip install ipykernel -U --user --force-reinstall'"
     ]
    }
   ],
   "source": [
    "# Import DataPrepKit\n",
    "from DataPrepKit import DataPrepKit\n",
    "\n",
    "# Initialize DataPrepKit instance\n",
    "prep_kit = DataPrepKit()\n",
    "\n",
    "# Read data from a CSV file\n",
    "csv_data = prep_kit.read_data('student-dataset.csv', 'csv')\n",
    "\n",
    "# Generate data summary\n",
    "summary = prep_kit.data_summary()\n",
    "print(\"Data Summary:\")\n",
    "print(summary)\n",
    "\n",
    "# Handle missing values\n",
    "cleaned_data = prep_kit.handle_missing_values(strategy='remove')\n",
    "print(\"\\nData after handling missing values (removed):\")\n",
    "print(cleaned_data)\n",
    "\n",
    "# Encode categorical data\n",
    "encoded_df = prep_kit.encode_categorical_data(categorical_columns=['Gender', 'City'])\n",
    "print(\"\\nEncoded DataFrame:\")\n",
    "print(encoded_df)\n"
   ]
  },
  {
   "cell_type": "code",
   "execution_count": null,
   "id": "49558c05",
   "metadata": {},
   "outputs": [],
   "source": []
  },
  {
   "cell_type": "code",
   "execution_count": null,
   "id": "a35486a0",
   "metadata": {},
   "outputs": [
    {
     "ename": "",
     "evalue": "",
     "output_type": "error",
     "traceback": [
      "\u001b[1;31mRunning cells with 'c:\\Users\\ahmedeldesoky\\AppData\\Local\\Microsoft\\WindowsApps\\python3.11.exe' requires the ipykernel package.\n",
      "\u001b[1;31mRun the following command to install 'ipykernel' into the Python environment. \n",
      "\u001b[1;31mCommand: 'c:/Users/ahmedeldesoky/AppData/Local/Microsoft/WindowsApps/python3.11.exe -m pip install ipykernel -U --user --force-reinstall'"
     ]
    }
   ],
   "source": []
  }
 ],
 "metadata": {
  "kernelspec": {
   "display_name": "Python 3 (ipykernel)",
   "language": "python",
   "name": "python3"
  },
  "language_info": {
   "codemirror_mode": {
    "name": "ipython",
    "version": 3
   },
   "file_extension": ".py",
   "mimetype": "text/x-python",
   "name": "python",
   "nbconvert_exporter": "python",
   "pygments_lexer": "ipython3",
   "version": "3.11.8"
  }
 },
 "nbformat": 4,
 "nbformat_minor": 5
}
